{
 "cells": [
  {
   "cell_type": "markdown",
   "id": "1dc8375f",
   "metadata": {},
   "source": [
    "# 📌 Building a Neural Network from Scratch using only Numpy"
   ]
  },
  {
   "cell_type": "code",
   "execution_count": 36,
   "id": "c4d22f43-5598-4c13-95df-481504bed7cd",
   "metadata": {},
   "outputs": [],
   "source": [
    "import numpy as np\n",
    "import pandas as pd\n",
    "from matplotlib import pyplot as plt\n",
    "\n",
    "import os\n",
    "import zipfile"
   ]
  },
  {
   "cell_type": "code",
   "execution_count": 37,
   "id": "ae1eeb31-4cf8-49aa-9bfb-38f31411579f",
   "metadata": {},
   "outputs": [],
   "source": [
    "directory = 'dataset/'\n",
    "files = os.listdir(directory)"
   ]
  },
  {
   "cell_type": "code",
   "execution_count": 38,
   "id": "82499de1-aef3-483d-aa9b-2eb67204ab6c",
   "metadata": {},
   "outputs": [],
   "source": [
    "with zipfile.ZipFile(directory + 'train.csv.zip', 'r') as zip:\n",
    "    zip.extractall('data/')"
   ]
  },
  {
   "cell_type": "code",
   "execution_count": 39,
   "id": "e72ffd08-70e7-4589-90a3-d9f59ca20dc8",
   "metadata": {},
   "outputs": [],
   "source": [
    "data = pd.read_csv('data/train.csv')"
   ]
  },
  {
   "cell_type": "code",
   "execution_count": 40,
   "id": "e99908c4-e346-4045-9864-b3bbc50978aa",
   "metadata": {},
   "outputs": [
    {
     "data": {
      "text/html": [
       "<div>\n",
       "<style scoped>\n",
       "    .dataframe tbody tr th:only-of-type {\n",
       "        vertical-align: middle;\n",
       "    }\n",
       "\n",
       "    .dataframe tbody tr th {\n",
       "        vertical-align: top;\n",
       "    }\n",
       "\n",
       "    .dataframe thead th {\n",
       "        text-align: right;\n",
       "    }\n",
       "</style>\n",
       "<table border=\"1\" class=\"dataframe\">\n",
       "  <thead>\n",
       "    <tr style=\"text-align: right;\">\n",
       "      <th></th>\n",
       "      <th>label</th>\n",
       "      <th>pixel0</th>\n",
       "      <th>pixel1</th>\n",
       "      <th>pixel2</th>\n",
       "      <th>pixel3</th>\n",
       "      <th>pixel4</th>\n",
       "      <th>pixel5</th>\n",
       "      <th>pixel6</th>\n",
       "      <th>pixel7</th>\n",
       "      <th>pixel8</th>\n",
       "      <th>...</th>\n",
       "      <th>pixel774</th>\n",
       "      <th>pixel775</th>\n",
       "      <th>pixel776</th>\n",
       "      <th>pixel777</th>\n",
       "      <th>pixel778</th>\n",
       "      <th>pixel779</th>\n",
       "      <th>pixel780</th>\n",
       "      <th>pixel781</th>\n",
       "      <th>pixel782</th>\n",
       "      <th>pixel783</th>\n",
       "    </tr>\n",
       "  </thead>\n",
       "  <tbody>\n",
       "    <tr>\n",
       "      <th>0</th>\n",
       "      <td>1</td>\n",
       "      <td>0</td>\n",
       "      <td>0</td>\n",
       "      <td>0</td>\n",
       "      <td>0</td>\n",
       "      <td>0</td>\n",
       "      <td>0</td>\n",
       "      <td>0</td>\n",
       "      <td>0</td>\n",
       "      <td>0</td>\n",
       "      <td>...</td>\n",
       "      <td>0</td>\n",
       "      <td>0</td>\n",
       "      <td>0</td>\n",
       "      <td>0</td>\n",
       "      <td>0</td>\n",
       "      <td>0</td>\n",
       "      <td>0</td>\n",
       "      <td>0</td>\n",
       "      <td>0</td>\n",
       "      <td>0</td>\n",
       "    </tr>\n",
       "    <tr>\n",
       "      <th>1</th>\n",
       "      <td>0</td>\n",
       "      <td>0</td>\n",
       "      <td>0</td>\n",
       "      <td>0</td>\n",
       "      <td>0</td>\n",
       "      <td>0</td>\n",
       "      <td>0</td>\n",
       "      <td>0</td>\n",
       "      <td>0</td>\n",
       "      <td>0</td>\n",
       "      <td>...</td>\n",
       "      <td>0</td>\n",
       "      <td>0</td>\n",
       "      <td>0</td>\n",
       "      <td>0</td>\n",
       "      <td>0</td>\n",
       "      <td>0</td>\n",
       "      <td>0</td>\n",
       "      <td>0</td>\n",
       "      <td>0</td>\n",
       "      <td>0</td>\n",
       "    </tr>\n",
       "    <tr>\n",
       "      <th>2</th>\n",
       "      <td>1</td>\n",
       "      <td>0</td>\n",
       "      <td>0</td>\n",
       "      <td>0</td>\n",
       "      <td>0</td>\n",
       "      <td>0</td>\n",
       "      <td>0</td>\n",
       "      <td>0</td>\n",
       "      <td>0</td>\n",
       "      <td>0</td>\n",
       "      <td>...</td>\n",
       "      <td>0</td>\n",
       "      <td>0</td>\n",
       "      <td>0</td>\n",
       "      <td>0</td>\n",
       "      <td>0</td>\n",
       "      <td>0</td>\n",
       "      <td>0</td>\n",
       "      <td>0</td>\n",
       "      <td>0</td>\n",
       "      <td>0</td>\n",
       "    </tr>\n",
       "    <tr>\n",
       "      <th>3</th>\n",
       "      <td>4</td>\n",
       "      <td>0</td>\n",
       "      <td>0</td>\n",
       "      <td>0</td>\n",
       "      <td>0</td>\n",
       "      <td>0</td>\n",
       "      <td>0</td>\n",
       "      <td>0</td>\n",
       "      <td>0</td>\n",
       "      <td>0</td>\n",
       "      <td>...</td>\n",
       "      <td>0</td>\n",
       "      <td>0</td>\n",
       "      <td>0</td>\n",
       "      <td>0</td>\n",
       "      <td>0</td>\n",
       "      <td>0</td>\n",
       "      <td>0</td>\n",
       "      <td>0</td>\n",
       "      <td>0</td>\n",
       "      <td>0</td>\n",
       "    </tr>\n",
       "    <tr>\n",
       "      <th>4</th>\n",
       "      <td>0</td>\n",
       "      <td>0</td>\n",
       "      <td>0</td>\n",
       "      <td>0</td>\n",
       "      <td>0</td>\n",
       "      <td>0</td>\n",
       "      <td>0</td>\n",
       "      <td>0</td>\n",
       "      <td>0</td>\n",
       "      <td>0</td>\n",
       "      <td>...</td>\n",
       "      <td>0</td>\n",
       "      <td>0</td>\n",
       "      <td>0</td>\n",
       "      <td>0</td>\n",
       "      <td>0</td>\n",
       "      <td>0</td>\n",
       "      <td>0</td>\n",
       "      <td>0</td>\n",
       "      <td>0</td>\n",
       "      <td>0</td>\n",
       "    </tr>\n",
       "  </tbody>\n",
       "</table>\n",
       "<p>5 rows × 785 columns</p>\n",
       "</div>"
      ],
      "text/plain": [
       "   label  pixel0  pixel1  pixel2  pixel3  pixel4  pixel5  pixel6  pixel7  \\\n",
       "0      1       0       0       0       0       0       0       0       0   \n",
       "1      0       0       0       0       0       0       0       0       0   \n",
       "2      1       0       0       0       0       0       0       0       0   \n",
       "3      4       0       0       0       0       0       0       0       0   \n",
       "4      0       0       0       0       0       0       0       0       0   \n",
       "\n",
       "   pixel8  ...  pixel774  pixel775  pixel776  pixel777  pixel778  pixel779  \\\n",
       "0       0  ...         0         0         0         0         0         0   \n",
       "1       0  ...         0         0         0         0         0         0   \n",
       "2       0  ...         0         0         0         0         0         0   \n",
       "3       0  ...         0         0         0         0         0         0   \n",
       "4       0  ...         0         0         0         0         0         0   \n",
       "\n",
       "   pixel780  pixel781  pixel782  pixel783  \n",
       "0         0         0         0         0  \n",
       "1         0         0         0         0  \n",
       "2         0         0         0         0  \n",
       "3         0         0         0         0  \n",
       "4         0         0         0         0  \n",
       "\n",
       "[5 rows x 785 columns]"
      ]
     },
     "execution_count": 40,
     "metadata": {},
     "output_type": "execute_result"
    }
   ],
   "source": [
    "data.head()"
   ]
  },
  {
   "cell_type": "code",
   "execution_count": 41,
   "id": "dc2f1ad5-8025-44bb-859a-cb9213da4a93",
   "metadata": {},
   "outputs": [],
   "source": [
    "data = np.array(data)\n",
    "m, n = data.shape\n",
    "np.random.shuffle(data)\n",
    "\n",
    "data_test = data[0:1000].T\n",
    "Y_test = data_test[0]\n",
    "X_test = data_test[1:n]\n",
    "X_test = X_test / 255.\n",
    "\n",
    "data_train = data[1000:m].T\n",
    "Y_train = data_train[0]\n",
    "X_train = data_train[1:n]\n",
    "X_train = X_train / 255."
   ]
  },
  {
   "cell_type": "code",
   "execution_count": 42,
   "id": "455d1a3e-495f-4265-a851-01b79177f41b",
   "metadata": {},
   "outputs": [
    {
     "data": {
      "text/plain": [
       "(784,)"
      ]
     },
     "execution_count": 42,
     "metadata": {},
     "output_type": "execute_result"
    }
   ],
   "source": [
    "X_train[:, 0].shape"
   ]
  },
  {
   "cell_type": "markdown",
   "id": "b76ab537",
   "metadata": {},
   "source": [
    "### Some information\n",
    "Our NN will have a simple two-layer architecture:\n",
    "-  Input layer $A^{[0]}$ will have 784 units corresponding to the 784 pixels in each 28x28x1 input image;\n",
    "- A hidden layer $A^{[1]}$ will have 10 units with ReLU activation; \n",
    "- the output layer $a^{[2]}$ will have 10 units corresponding to the ten digit classes with softmax activation.\n",
    "\n",
    "\n",
    "In order to have a NN with good accuracy performance in prediction we have to implement 3 main phases that will compose the training algorithm:\n",
    "- **Forward propagation**\n",
    "- **Backward propagation**\n",
    "- **Parameter updates**"
   ]
  },
  {
   "cell_type": "markdown",
   "id": "6e8eaf4e",
   "metadata": {},
   "source": [
    "### Parameters initialization"
   ]
  },
  {
   "cell_type": "code",
   "execution_count": 43,
   "id": "5859c12f",
   "metadata": {},
   "outputs": [],
   "source": [
    "def init_params():\n",
    "    W1 = np.random.normal(size=(10, 784)) * np.sqrt(1./(784))\n",
    "    b1 = np.random.normal(size=(10, 1)) * np.sqrt(1./10)\n",
    "    W2 = np.random.normal(size=(10, 10)) * np.sqrt(1./10)\n",
    "    b2 = np.random.normal(size=(10, 1)) * np.sqrt(1./(10))\n",
    "    return W1, b1, W2, b2"
   ]
  },
  {
   "cell_type": "markdown",
   "id": "154dd050",
   "metadata": {},
   "source": [
    "### Utilities Function"
   ]
  },
  {
   "cell_type": "code",
   "execution_count": 44,
   "id": "eeb7695e",
   "metadata": {},
   "outputs": [],
   "source": [
    "def ReLU(Z):\n",
    "    return np.maximum(Z, 0)\n",
    "\n",
    "\n",
    "def ReLU_derivative(Z):\n",
    "    return Z > 0\n",
    "\n",
    "\n",
    "def softmax(Z):\n",
    "    return np.exp(Z) / np.sum(np.exp(Z), axis=0)\n",
    "\n",
    "\n",
    "def one_hot(Y):\n",
    "    one_hot_Y = np.zeros((Y.size, Y.max() + 1))\n",
    "    one_hot_Y[np.arange(Y.size), Y] = 1\n",
    "    one_hot_Y = one_hot_Y.T\n",
    "    return one_hot_Y"
   ]
  },
  {
   "cell_type": "markdown",
   "id": "9563e329",
   "metadata": {},
   "source": [
    "### Training Phase\n",
    "\n",
    "**Forward propagation**\n",
    "\n",
    "$$Z^{[1]} = W^{[1]} X + b^{[1]}$$\n",
    "$$A^{[1]} = g_{\\text{ReLU}}(Z^{[1]}))$$\n",
    "$$Z^{[2]} = W^{[2]} A^{[1]} + b^{[2]}$$\n",
    "$$A^{[2]} = g_{\\text{softmax}}(Z^{[2]})$$\n",
    "\n",
    "**Backward propagation**\n",
    "\n",
    "$$dZ^{[2]} = A^{[2]} - Y$$\n",
    "$$dW^{[2]} = \\frac{1}{m} dZ^{[2]} A^{[1]T}$$\n",
    "$$dB^{[2]} = \\frac{1}{m} \\Sigma {dZ^{[2]}}$$\n",
    "$$dZ^{[1]} = W^{[2]T} dZ^{[2]} .* g^{[1]\\prime} (z^{[1]})$$\n",
    "$$dW^{[1]} = \\frac{1}{m} dZ^{[1]} A^{[0]T}$$\n",
    "$$dB^{[1]} = \\frac{1}{m} \\Sigma {dZ^{[1]}}$$\n",
    "\n",
    "**Parameter updates**\n",
    "\n",
    "$$W^{[2]} := W^{[2]} - \\alpha dW^{[2]}$$\n",
    "$$b^{[2]} := b^{[2]} - \\alpha db^{[2]}$$\n",
    "$$W^{[1]} := W^{[1]} - \\alpha dW^{[1]}$$\n",
    "$$b^{[1]} := b^{[1]} - \\alpha db^{[1]}$$"
   ]
  },
  {
   "cell_type": "code",
   "execution_count": 45,
   "id": "de32bc72-05a6-4726-be9f-0baadb0a30ae",
   "metadata": {},
   "outputs": [],
   "source": [
    "def forward_propagation(W1, b1, W2, b2, X):\n",
    "    Z1 = W1.dot(X) + b1\n",
    "    A1 = ReLU(Z1)\n",
    "    Z2 = W2.dot(A1) + b2\n",
    "    A2 = softmax(Z2)\n",
    "    return Z1, A1, Z2, A2\n",
    "\n",
    "\n",
    "def backward_propagation(Z1, A1, Z2, A2, W1, W2, X, Y):\n",
    "    one_hot_Y = one_hot(Y)\n",
    "    dZ2 = 2*(A2 - one_hot_Y)\n",
    "    dW2 = 1 / m * dZ2.dot(A1.T)\n",
    "    db2 = 1 / m * np.sum(dZ2, axis=1).reshape(-1, 1)\n",
    "    dZ1 = W2.T.dot(dZ2) * ReLU_derivative(Z1)\n",
    "    dW1 = 1 / m * dZ1.dot(X.T)\n",
    "    db1 = 1 / m * np.sum(dZ1, axis=1).reshape(-1, 1)\n",
    "    return dW1, db1, dW2, db2\n",
    "\n",
    "\n",
    "def update_params(W1, b1, W2, b2, dW1, db1, dW2, db2, alpha):\n",
    "    W1 = W1 - alpha * dW1\n",
    "    b1 = b1 - alpha * db1\n",
    "    \n",
    "    W2 = W2 - alpha * dW2  \n",
    "    b2 = b2 - alpha * db2\n",
    "\n",
    "    return W1, b1, W2, b2\n",
    "\n",
    "\n",
    "def get_predictions(A2):\n",
    "    return np.argmax(A2, 0)\n",
    "\n",
    "\n",
    "def get_accuracy(predictions, Y):\n",
    "    print(predictions, Y)\n",
    "    return np.sum(predictions == Y) / Y.size\n",
    "\n",
    "\n",
    "def gradient_descent(X, Y, alpha, iterations):\n",
    "    W1, b1, W2, b2 = init_params()\n",
    "    for i in range(iterations):\n",
    "        Z1, A1, Z2, A2 = forward_propagation(W1, b1, W2, b2, X)\n",
    "        dW1, db1, dW2, db2 = backward_propagation(Z1, A1, Z2, A2, W1, W2, X, Y)\n",
    "        W1, b1, W2, b2 = update_params(W1, b1, W2, b2, dW1, db1, dW2, db2, alpha)\n",
    "        if i % 10 == 0:\n",
    "            print(\"Iteration: \", i)\n",
    "            predictions = get_predictions(A2)\n",
    "            print(get_accuracy(predictions, Y))\n",
    "    \n",
    "    return W1, b1, W2, b2\n"
   ]
  },
  {
   "cell_type": "markdown",
   "id": "b867580f",
   "metadata": {},
   "source": [
    "**Shapes**\n",
    "\n",
    "- Forward propagation\n",
    "    - $A^{[0]} = X$: 784 x m\n",
    "    - $Z^{[1]} \\sim A^{[1]}$: 10 x m\n",
    "    - $W^{[1]}$: 10 x 784 (as $W^{[1]} A^{[0]} \\sim Z^{[1]}$)\n",
    "    - $B^{[1]}$: 10 x 1\n",
    "    - $Z^{[2]} \\sim A^{[2]}$: 10 x m\n",
    "    - $W^{[1]}$: 10 x 10 (as $W^{[2]} A^{[1]} \\sim Z^{[2]}$)\n",
    "    - $B^{[2]}$: 10 x 1\n",
    "\n",
    "- Backpropagation\n",
    "    - $dZ^{[2]}$: 10 x m ($~A^{[2]}$)\n",
    "    - $dW^{[2]}$: 10 x 10\n",
    "    - $dB^{[2]}$: 10 x 1\n",
    "    - $dZ^{[1]}$: 10 x m ($~A^{[1]}$)\n",
    "    - $dW^{[1]}$: 10 x 10\n",
    "    - $dB^{[1]}$: 10 x 1"
   ]
  },
  {
   "cell_type": "markdown",
   "id": "1678b199",
   "metadata": {},
   "source": [
    "## Build the NN and make prediction"
   ]
  },
  {
   "cell_type": "code",
   "execution_count": 46,
   "id": "e315e6d3",
   "metadata": {},
   "outputs": [
    {
     "name": "stdout",
     "output_type": "stream",
     "text": [
      "Iteration:  0\n",
      "[9 5 9 ... 8 9 5] [1 6 3 ... 1 9 5]\n",
      "0.12036585365853658\n"
     ]
    },
    {
     "name": "stdout",
     "output_type": "stream",
     "text": [
      "Iteration:  10\n",
      "[1 5 5 ... 1 9 5] [1 6 3 ... 1 9 5]\n",
      "0.38141463414634147\n",
      "Iteration:  20\n",
      "[1 6 3 ... 1 9 7] [1 6 3 ... 1 9 5]\n",
      "0.6854878048780488\n",
      "Iteration:  30\n",
      "[1 6 3 ... 1 9 7] [1 6 3 ... 1 9 5]\n",
      "0.7696341463414634\n",
      "Iteration:  40\n",
      "[1 6 3 ... 1 9 7] [1 6 3 ... 1 9 5]\n",
      "0.8015121951219513\n",
      "Iteration:  50\n",
      "[1 6 3 ... 1 9 5] [1 6 3 ... 1 9 5]\n",
      "0.8224390243902439\n",
      "Iteration:  60\n",
      "[1 6 3 ... 1 9 5] [1 6 3 ... 1 9 5]\n",
      "0.835780487804878\n",
      "Iteration:  70\n",
      "[1 6 3 ... 1 9 5] [1 6 3 ... 1 9 5]\n",
      "0.8452682926829268\n",
      "Iteration:  80\n",
      "[1 6 3 ... 1 9 5] [1 6 3 ... 1 9 5]\n",
      "0.8524878048780488\n",
      "Iteration:  90\n",
      "[1 6 3 ... 1 9 5] [1 6 3 ... 1 9 5]\n",
      "0.8581463414634146\n",
      "Iteration:  100\n",
      "[1 6 3 ... 1 9 5] [1 6 3 ... 1 9 5]\n",
      "0.8631219512195122\n",
      "Iteration:  110\n",
      "[1 6 3 ... 1 9 5] [1 6 3 ... 1 9 5]\n",
      "0.8670975609756097\n",
      "Iteration:  120\n",
      "[1 6 3 ... 1 9 5] [1 6 3 ... 1 9 5]\n",
      "0.8710731707317073\n",
      "Iteration:  130\n",
      "[1 6 3 ... 1 9 5] [1 6 3 ... 1 9 5]\n",
      "0.8740731707317073\n",
      "Iteration:  140\n",
      "[1 6 3 ... 1 9 5] [1 6 3 ... 1 9 5]\n",
      "0.8768780487804878\n",
      "Iteration:  150\n",
      "[1 6 3 ... 1 9 5] [1 6 3 ... 1 9 5]\n",
      "0.8795365853658537\n",
      "Iteration:  160\n",
      "[1 6 3 ... 1 9 5] [1 6 3 ... 1 9 5]\n",
      "0.8819268292682927\n",
      "Iteration:  170\n",
      "[1 6 3 ... 1 9 5] [1 6 3 ... 1 9 5]\n",
      "0.8840731707317073\n",
      "Iteration:  180\n",
      "[1 6 3 ... 1 9 5] [1 6 3 ... 1 9 5]\n",
      "0.8864878048780488\n",
      "Iteration:  190\n",
      "[1 6 3 ... 1 9 5] [1 6 3 ... 1 9 5]\n",
      "0.8883170731707317\n",
      "Iteration:  200\n",
      "[1 6 3 ... 1 9 5] [1 6 3 ... 1 9 5]\n",
      "0.8903658536585366\n",
      "Iteration:  210\n",
      "[1 6 3 ... 1 9 5] [1 6 3 ... 1 9 5]\n",
      "0.8920975609756098\n",
      "Iteration:  220\n",
      "[1 6 3 ... 1 9 5] [1 6 3 ... 1 9 5]\n",
      "0.8937073170731707\n",
      "Iteration:  230\n",
      "[1 6 3 ... 1 9 5] [1 6 3 ... 1 9 5]\n",
      "0.8947073170731707\n",
      "Iteration:  240\n",
      "[1 6 3 ... 1 9 5] [1 6 3 ... 1 9 5]\n",
      "0.8958048780487805\n",
      "Iteration:  250\n",
      "[1 6 3 ... 1 9 5] [1 6 3 ... 1 9 5]\n",
      "0.8965609756097561\n",
      "Iteration:  260\n",
      "[1 6 3 ... 1 9 5] [1 6 3 ... 1 9 5]\n",
      "0.8975121951219512\n",
      "Iteration:  270\n",
      "[1 6 3 ... 1 9 5] [1 6 3 ... 1 9 5]\n",
      "0.8986829268292683\n",
      "Iteration:  280\n",
      "[1 6 3 ... 1 9 5] [1 6 3 ... 1 9 5]\n",
      "0.8995365853658537\n",
      "Iteration:  290\n",
      "[1 6 3 ... 1 9 5] [1 6 3 ... 1 9 5]\n",
      "0.9007073170731708\n",
      "Iteration:  300\n",
      "[1 6 3 ... 1 9 5] [1 6 3 ... 1 9 5]\n",
      "0.9018536585365854\n",
      "Iteration:  310\n",
      "[1 6 3 ... 1 9 5] [1 6 3 ... 1 9 5]\n",
      "0.9030975609756098\n",
      "Iteration:  320\n",
      "[1 6 3 ... 1 9 5] [1 6 3 ... 1 9 5]\n",
      "0.9036585365853659\n",
      "Iteration:  330\n",
      "[1 6 3 ... 1 9 5] [1 6 3 ... 1 9 5]\n",
      "0.9041219512195122\n",
      "Iteration:  340\n",
      "[1 6 3 ... 1 9 5] [1 6 3 ... 1 9 5]\n",
      "0.9048536585365854\n",
      "Iteration:  350\n",
      "[1 6 3 ... 1 9 5] [1 6 3 ... 1 9 5]\n",
      "0.9059512195121951\n",
      "Iteration:  360\n",
      "[1 6 3 ... 1 9 5] [1 6 3 ... 1 9 5]\n",
      "0.9065609756097561\n",
      "Iteration:  370\n",
      "[1 6 3 ... 1 9 5] [1 6 3 ... 1 9 5]\n",
      "0.9071463414634147\n",
      "Iteration:  380\n",
      "[1 6 3 ... 1 9 5] [1 6 3 ... 1 9 5]\n",
      "0.9076585365853659\n",
      "Iteration:  390\n",
      "[1 6 3 ... 1 9 5] [1 6 3 ... 1 9 5]\n",
      "0.9077317073170732\n",
      "Iteration:  400\n",
      "[1 6 3 ... 1 9 5] [1 6 3 ... 1 9 5]\n",
      "0.9079268292682927\n",
      "Iteration:  410\n",
      "[1 6 3 ... 1 9 5] [1 6 3 ... 1 9 5]\n",
      "0.9082682926829269\n",
      "Iteration:  420\n",
      "[1 6 3 ... 1 9 5] [1 6 3 ... 1 9 5]\n",
      "0.9087560975609756\n",
      "Iteration:  430\n",
      "[1 6 3 ... 1 9 5] [1 6 3 ... 1 9 5]\n",
      "0.9092926829268293\n",
      "Iteration:  440\n",
      "[1 6 3 ... 1 9 5] [1 6 3 ... 1 9 5]\n",
      "0.9096585365853659\n",
      "Iteration:  450\n",
      "[1 6 3 ... 1 9 5] [1 6 3 ... 1 9 5]\n",
      "0.9097804878048781\n",
      "Iteration:  460\n",
      "[1 6 3 ... 1 9 5] [1 6 3 ... 1 9 5]\n",
      "0.9100487804878049\n",
      "Iteration:  470\n",
      "[1 6 3 ... 1 9 5] [1 6 3 ... 1 9 5]\n",
      "0.9107073170731708\n",
      "Iteration:  480\n",
      "[1 6 3 ... 1 9 5] [1 6 3 ... 1 9 5]\n",
      "0.9113170731707317\n",
      "Iteration:  490\n",
      "[1 6 3 ... 1 9 5] [1 6 3 ... 1 9 5]\n",
      "0.9115121951219513\n"
     ]
    }
   ],
   "source": [
    "# The NN is the combination of all the parameters\n",
    "W1, b1, W2, b2 = gradient_descent(X_train, Y_train, 0.1, 500)\n",
    "\n",
    "NN = (W1, b1, W2, b2)"
   ]
  },
  {
   "cell_type": "markdown",
   "id": "275e7f69",
   "metadata": {},
   "source": [
    "### Make some predictions"
   ]
  },
  {
   "cell_type": "code",
   "execution_count": 47,
   "id": "c638b2bb",
   "metadata": {},
   "outputs": [],
   "source": [
    "def make_predictions(X, NN):\n",
    "    _, _, _, A2 = forward_propagation(NN[0], NN[1], NN[2], NN[3], X)\n",
    "    predictions = get_predictions(A2)\n",
    "    return predictions\n",
    "\n",
    "def test_prediction(index, NN):\n",
    "    current_image = X_train[:, index, None]\n",
    "    prediction = make_predictions(X_train[:, index, None], NN)\n",
    "    label = Y_train[index]\n",
    "    print(\"Prediction: \", prediction)\n",
    "    print(\"Label: \", label)\n",
    "    \n",
    "    current_image = current_image.reshape((28, 28)) * 255\n",
    "    plt.gray()\n",
    "    plt.imshow(current_image, interpolation='nearest')\n",
    "    plt.show()"
   ]
  },
  {
   "cell_type": "code",
   "execution_count": 48,
   "id": "0abd0c8d",
   "metadata": {},
   "outputs": [
    {
     "name": "stdout",
     "output_type": "stream",
     "text": [
      "Prediction:  [1]\n",
      "Label:  1\n"
     ]
    },
    {
     "data": {
      "image/png": "[encoded data removed]",
      "text/plain": [
       "<Figure size 640x480 with 1 Axes>"
      ]
     },
     "metadata": {},
     "output_type": "display_data"
    },
    {
     "name": "stdout",
     "output_type": "stream",
     "text": [
      "Prediction:  [6]\n",
      "Label:  6\n"
     ]
    },
    {
     "data": {
      "image/png": "[encoded data removed]",
      "text/plain": [
       "<Figure size 640x480 with 1 Axes>"
      ]
     },
     "metadata": {},
     "output_type": "display_data"
    },
    {
     "name": "stdout",
     "output_type": "stream",
     "text": [
      "Prediction:  [3]\n",
      "Label:  3\n"
     ]
    },
    {
     "data": {
      "image/png": "[encoded data removed]",
      "text/plain": [
       "<Figure size 640x480 with 1 Axes>"
      ]
     },
     "metadata": {},
     "output_type": "display_data"
    },
    {
     "name": "stdout",
     "output_type": "stream",
     "text": [
      "Prediction:  [2]\n",
      "Label:  2\n"
     ]
    },
    {
     "data": {
      "image/png": "[encoded data removed]",
      "text/plain": [
       "<Figure size 640x480 with 1 Axes>"
      ]
     },
     "metadata": {},
     "output_type": "display_data"
    }
   ],
   "source": [
    "test_prediction(0, NN)\n",
    "test_prediction(1, NN)\n",
    "test_prediction(2, NN)\n",
    "test_prediction(3, NN)"
   ]
  },
  {
   "cell_type": "markdown",
   "id": "a0378d15",
   "metadata": {},
   "source": [
    "### Accuracy on Test set"
   ]
  },
  {
   "cell_type": "code",
   "execution_count": 49,
   "id": "80271ec7",
   "metadata": {},
   "outputs": [
    {
     "name": "stdout",
     "output_type": "stream",
     "text": [
      "[1 2 5 6 3 2 3 1 3 6 0 2 5 7 1 0 6 3 1 2 0 4 1 5 5 8 0 2 9 7 3 2 2 9 1 3 1\n",
      " 3 0 9 5 3 6 0 8 0 6 6 1 8 1 1 3 2 7 6 7 1 6 8 9 3 4 4 4 2 9 8 1 9 7 6 3 6\n",
      " 2 6 6 4 6 1 7 5 7 0 4 5 3 9 1 5 9 4 3 7 1 4 6 2 6 9 4 6 2 9 0 8 3 6 6 9 1\n",
      " 9 6 5 2 8 1 0 3 4 8 0 4 7 0 2 7 0 3 3 6 5 6 8 5 5 0 1 6 6 1 8 7 5 9 0 8 1\n",
      " 3 1 3 4 5 2 7 6 9 3 6 2 3 8 9 5 6 7 6 1 9 4 0 7 8 1 6 8 9 7 8 7 6 6 6 2 8\n",
      " 6 3 9 6 0 9 1 8 9 0 8 1 6 7 5 6 3 7 8 3 5 1 1 3 8 6 5 2 2 4 1 3 2 8 0 8 1\n",
      " 2 7 8 3 3 1 6 1 3 4 3 9 1 4 4 1 7 0 1 3 9 0 7 7 3 4 0 7 7 8 1 2 2 0 2 2 7\n",
      " 6 6 6 0 3 5 1 4 7 1 4 9 9 3 2 3 1 0 5 7 2 5 4 9 7 3 2 7 3 7 3 9 5 3 0 1 1\n",
      " 4 4 3 4 4 9 9 5 6 6 2 8 3 1 7 7 9 1 8 0 3 8 6 0 9 6 6 4 4 5 4 7 1 6 1 1 7\n",
      " 4 6 8 5 7 0 6 9 6 7 6 4 7 4 4 5 0 8 4 6 9 8 1 2 8 9 5 4 8 4 9 4 4 6 1 4 0\n",
      " 8 2 1 0 7 4 7 3 8 5 0 7 3 8 3 5 0 4 9 8 7 8 5 7 0 6 6 0 0 8 9 3 1 3 6 3 8\n",
      " 9 8 7 9 3 9 3 5 1 8 9 5 9 4 3 1 3 7 4 6 6 0 0 0 8 3 3 3 1 9 3 1 6 3 0 7 2\n",
      " 1 4 2 5 1 8 2 7 4 5 2 3 6 5 9 6 3 2 4 0 1 0 6 6 2 0 5 7 8 1 7 8 5 9 1 3 2\n",
      " 5 0 1 1 6 7 7 7 4 1 1 8 8 9 0 7 9 9 9 9 8 7 2 3 3 8 7 8 3 0 1 8 0 0 2 4 4\n",
      " 5 3 4 3 8 6 5 2 5 7 3 0 9 7 2 4 1 3 7 4 1 0 1 9 5 0 5 1 5 0 9 6 1 3 5 7 8\n",
      " 2 5 2 4 5 8 0 7 1 4 1 0 6 1 3 3 2 1 0 7 3 0 9 6 9 2 3 2 3 7 7 1 6 2 1 4 2\n",
      " 7 7 3 4 6 0 1 3 5 1 7 2 8 6 6 1 7 9 3 7 7 9 2 2 1 6 7 0 0 0 4 9 9 1 7 2 7\n",
      " 4 0 6 3 8 6 7 5 8 7 6 2 5 5 3 1 8 8 1 4 0 1 1 6 6 1 0 6 4 0 6 3 3 9 2 0 4\n",
      " 0 2 3 2 6 9 2 6 8 1 4 3 2 3 9 1 8 0 7 4 4 5 2 4 6 4 8 5 4 2 3 1 0 4 3 9 3\n",
      " 6 1 8 1 4 0 2 2 0 1 2 5 3 8 4 9 1 8 4 9 7 6 7 2 0 1 4 0 0 6 1 2 4 0 5 3 6\n",
      " 9 4 8 1 4 7 7 9 6 4 7 3 7 0 1 1 2 5 8 1 0 8 8 7 4 0 5 5 2 1 0 5 0 6 0 9 7\n",
      " 0 8 9 0 2 3 7 9 2 0 1 2 9 2 9 5 4 0 6 8 0 3 1 1 8 2 5 3 3 9 0 3 3 8 6 3 3\n",
      " 4 5 1 5 7 6 8 3 1 5 2 6 3 0 4 5 2 9 6 3 9 8 8 4 8 0 2 4 9 4 1 7 1 5 2 2 9\n",
      " 1 5 6 9 0 8 8 4 0 9 5 5 6 5 0 9 6 0 1 8 7 8 3 1 9 1 6 1 9 3 2 5 9 7 8 9 3\n",
      " 1 0 5 3 7 3 1 3 5 1 5 0 1 6 6 2 0 1 6 0 4 4 6 9 0 8 1 1 6 7 2 3 4 2 8 7 8\n",
      " 9 9 0 1 7 7 4 0 7 0 8 0 2 3 7 1 1 2 4 0 5 0 0 1 0 8 4 8 5 3 1 1 5 5 2 5 8\n",
      " 0 2 7 5 7 0 3 8 7 9 1 4 8 8 0 2 4 3 6 2 5 3 2 4 9 7 2 3 0 0 4 4 3 4 6 9 4\n",
      " 3] [1 2 5 6 3 2 3 1 3 5 0 2 5 7 1 0 6 3 1 2 0 4 1 5 6 8 0 2 9 7 3 2 2 9 1 3 1\n",
      " 3 0 9 5 3 6 0 8 0 6 6 1 8 1 1 5 2 7 6 7 1 6 8 9 3 4 4 4 2 9 2 1 9 7 6 3 6\n",
      " 2 6 6 6 6 1 7 5 7 0 4 5 3 4 1 5 9 4 3 7 1 4 2 2 6 9 4 6 2 4 0 8 3 6 6 9 1\n",
      " 9 4 5 2 8 1 0 3 4 8 0 4 7 0 2 7 0 3 3 6 5 6 8 5 5 0 1 6 6 1 8 7 3 9 0 8 1\n",
      " 3 1 3 4 5 2 7 6 9 3 6 2 3 8 7 5 6 7 6 1 9 4 0 8 8 1 6 8 9 9 8 7 6 6 6 2 8\n",
      " 6 3 9 6 0 9 1 8 9 0 8 1 6 7 5 6 3 7 8 3 5 1 1 3 3 6 5 2 2 4 1 3 2 8 0 8 1\n",
      " 6 7 8 3 3 4 6 1 3 4 3 3 1 4 4 1 7 0 1 3 9 0 7 7 3 4 0 7 7 8 1 2 2 0 4 3 7\n",
      " 2 6 6 0 3 5 1 4 7 1 4 9 9 3 2 3 1 6 5 7 2 5 4 9 7 3 2 7 3 7 3 9 5 3 0 1 1\n",
      " 4 4 3 4 4 9 9 5 6 6 2 8 3 1 7 7 9 1 8 0 0 8 6 0 9 6 6 4 4 3 4 7 1 6 1 1 7\n",
      " 4 6 8 5 7 0 6 9 6 7 6 4 7 4 8 5 0 8 4 6 9 2 1 2 8 4 5 4 8 4 9 4 4 6 1 4 0\n",
      " 8 2 1 0 7 4 7 3 8 3 0 3 3 8 3 3 0 4 9 9 7 8 5 7 0 6 6 0 0 2 7 3 1 3 5 3 8\n",
      " 4 8 7 9 3 9 3 5 7 8 9 5 9 4 3 7 3 7 4 6 6 6 0 0 8 3 3 3 1 9 3 1 6 3 0 7 2\n",
      " 1 4 2 5 1 8 2 7 4 5 2 3 6 5 9 6 3 2 4 0 1 0 6 6 3 5 5 7 8 1 7 8 3 9 1 5 2\n",
      " 5 0 1 7 6 7 7 7 4 1 1 8 8 9 0 7 9 9 9 9 0 7 8 3 3 8 7 8 3 0 1 5 0 0 2 4 4\n",
      " 5 3 4 3 8 6 9 2 5 7 3 0 9 7 2 4 1 3 7 4 1 0 1 9 5 0 5 1 8 8 9 6 1 3 5 7 8\n",
      " 2 5 2 4 5 8 0 7 1 4 1 0 6 1 3 3 2 1 0 3 3 0 9 6 9 2 5 2 3 7 7 1 6 5 1 4 2\n",
      " 7 7 3 4 6 0 1 3 5 2 7 2 8 6 6 1 7 9 3 7 7 7 6 2 7 6 7 0 0 0 4 9 9 1 7 2 7\n",
      " 4 0 6 5 8 6 7 5 8 7 6 2 5 5 3 1 1 5 1 4 0 1 1 6 6 1 0 6 9 0 6 3 3 9 2 0 4\n",
      " 0 2 3 2 8 9 2 6 8 1 4 3 2 3 9 1 8 0 7 4 4 5 2 4 6 4 8 5 4 2 3 1 0 4 3 9 3\n",
      " 6 1 8 1 4 0 2 3 0 1 2 5 2 3 4 9 1 8 4 9 7 6 7 2 0 1 4 0 0 6 1 2 4 0 5 3 6\n",
      " 9 4 8 1 5 7 7 9 6 4 9 3 7 0 2 1 2 5 0 1 0 8 8 7 4 0 5 5 2 1 0 8 0 6 0 9 7\n",
      " 0 8 9 5 2 3 7 9 2 0 1 2 9 2 9 5 4 0 6 1 2 3 8 1 8 2 5 3 3 9 0 3 3 8 6 3 3\n",
      " 4 5 1 5 7 6 8 3 1 5 2 6 3 0 4 5 2 4 0 3 9 8 8 4 8 0 4 4 9 4 1 7 1 5 2 2 9\n",
      " 1 3 6 9 0 8 8 4 0 9 5 5 6 5 0 9 6 0 1 8 7 8 3 1 9 1 6 1 9 3 2 5 4 4 8 9 3\n",
      " 1 0 5 3 7 3 1 3 5 1 5 0 1 6 6 2 0 1 6 0 4 4 6 9 0 8 1 1 6 7 2 3 4 2 8 7 8\n",
      " 9 9 0 1 7 7 4 0 7 0 8 0 2 3 7 1 1 2 0 0 5 8 0 1 0 8 4 8 5 3 1 1 5 5 2 3 8\n",
      " 0 2 7 5 7 0 3 8 7 9 2 4 8 8 0 2 4 3 6 2 5 3 2 4 7 7 6 5 0 0 4 4 3 4 6 9 4\n",
      " 3]\n"
     ]
    },
    {
     "data": {
      "text/plain": [
       "0.915"
      ]
     },
     "execution_count": 49,
     "metadata": {},
     "output_type": "execute_result"
    }
   ],
   "source": [
    "dev_predictions = make_predictions(X_test, NN)\n",
    "get_accuracy(dev_predictions, Y_test)"
   ]
  }
 ],
 "metadata": {
  "kernelspec": {
   "display_name": "Python 3 (ipykernel)",
   "language": "python",
   "name": "python3"
  },
  "language_info": {
   "codemirror_mode": {
    "name": "ipython",
    "version": 3
   },
   "file_extension": ".py",
   "mimetype": "text/x-python",
   "name": "python",
   "nbconvert_exporter": "python",
   "pygments_lexer": "ipython3",
   "version": "3.10.12"
  }
 },
 "nbformat": 4,
 "nbformat_minor": 5
}
