{
 "cells": [
  {
   "cell_type": "markdown",
   "id": "1dc8375f",
   "metadata": {},
   "source": [
    "# 📌 Building a Neural Network from Scratch using only Numpy"
   ]
  },
  {
   "cell_type": "code",
   "execution_count": 2,
   "id": "c4d22f43-5598-4c13-95df-481504bed7cd",
   "metadata": {},
   "outputs": [],
   "source": [
    "import numpy as np\n",
    "import pandas as pd\n",
    "from matplotlib import pyplot as plt\n",
    "\n",
    "import os\n",
    "import zipfile"
   ]
  },
  {
   "cell_type": "code",
   "execution_count": 3,
   "id": "ae1eeb31-4cf8-49aa-9bfb-38f31411579f",
   "metadata": {},
   "outputs": [],
   "source": [
    "directory = 'dataset/'\n",
    "files = os.listdir(directory)"
   ]
  },
  {
   "cell_type": "code",
   "execution_count": 4,
   "id": "82499de1-aef3-483d-aa9b-2eb67204ab6c",
   "metadata": {},
   "outputs": [],
   "source": [
    "with zipfile.ZipFile(directory + 'train.csv.zip', 'r') as zip:\n",
    "    zip.extractall('dataset/')"
   ]
  },
  {
   "cell_type": "code",
   "execution_count": 5,
   "id": "e72ffd08-70e7-4589-90a3-d9f59ca20dc8",
   "metadata": {},
   "outputs": [],
   "source": [
    "data = pd.read_csv('dataset/train.csv')"
   ]
  },
  {
   "cell_type": "code",
   "execution_count": 6,
   "id": "e99908c4-e346-4045-9864-b3bbc50978aa",
   "metadata": {},
   "outputs": [
    {
     "data": {
      "text/html": [
       "<div>\n",
       "<style scoped>\n",
       "    .dataframe tbody tr th:only-of-type {\n",
       "        vertical-align: middle;\n",
       "    }\n",
       "\n",
       "    .dataframe tbody tr th {\n",
       "        vertical-align: top;\n",
       "    }\n",
       "\n",
       "    .dataframe thead th {\n",
       "        text-align: right;\n",
       "    }\n",
       "</style>\n",
       "<table border=\"1\" class=\"dataframe\">\n",
       "  <thead>\n",
       "    <tr style=\"text-align: right;\">\n",
       "      <th></th>\n",
       "      <th>label</th>\n",
       "      <th>pixel0</th>\n",
       "      <th>pixel1</th>\n",
       "      <th>pixel2</th>\n",
       "      <th>pixel3</th>\n",
       "      <th>pixel4</th>\n",
       "      <th>pixel5</th>\n",
       "      <th>pixel6</th>\n",
       "      <th>pixel7</th>\n",
       "      <th>pixel8</th>\n",
       "      <th>...</th>\n",
       "      <th>pixel774</th>\n",
       "      <th>pixel775</th>\n",
       "      <th>pixel776</th>\n",
       "      <th>pixel777</th>\n",
       "      <th>pixel778</th>\n",
       "      <th>pixel779</th>\n",
       "      <th>pixel780</th>\n",
       "      <th>pixel781</th>\n",
       "      <th>pixel782</th>\n",
       "      <th>pixel783</th>\n",
       "    </tr>\n",
       "  </thead>\n",
       "  <tbody>\n",
       "    <tr>\n",
       "      <th>0</th>\n",
       "      <td>1</td>\n",
       "      <td>0</td>\n",
       "      <td>0</td>\n",
       "      <td>0</td>\n",
       "      <td>0</td>\n",
       "      <td>0</td>\n",
       "      <td>0</td>\n",
       "      <td>0</td>\n",
       "      <td>0</td>\n",
       "      <td>0</td>\n",
       "      <td>...</td>\n",
       "      <td>0</td>\n",
       "      <td>0</td>\n",
       "      <td>0</td>\n",
       "      <td>0</td>\n",
       "      <td>0</td>\n",
       "      <td>0</td>\n",
       "      <td>0</td>\n",
       "      <td>0</td>\n",
       "      <td>0</td>\n",
       "      <td>0</td>\n",
       "    </tr>\n",
       "    <tr>\n",
       "      <th>1</th>\n",
       "      <td>0</td>\n",
       "      <td>0</td>\n",
       "      <td>0</td>\n",
       "      <td>0</td>\n",
       "      <td>0</td>\n",
       "      <td>0</td>\n",
       "      <td>0</td>\n",
       "      <td>0</td>\n",
       "      <td>0</td>\n",
       "      <td>0</td>\n",
       "      <td>...</td>\n",
       "      <td>0</td>\n",
       "      <td>0</td>\n",
       "      <td>0</td>\n",
       "      <td>0</td>\n",
       "      <td>0</td>\n",
       "      <td>0</td>\n",
       "      <td>0</td>\n",
       "      <td>0</td>\n",
       "      <td>0</td>\n",
       "      <td>0</td>\n",
       "    </tr>\n",
       "    <tr>\n",
       "      <th>2</th>\n",
       "      <td>1</td>\n",
       "      <td>0</td>\n",
       "      <td>0</td>\n",
       "      <td>0</td>\n",
       "      <td>0</td>\n",
       "      <td>0</td>\n",
       "      <td>0</td>\n",
       "      <td>0</td>\n",
       "      <td>0</td>\n",
       "      <td>0</td>\n",
       "      <td>...</td>\n",
       "      <td>0</td>\n",
       "      <td>0</td>\n",
       "      <td>0</td>\n",
       "      <td>0</td>\n",
       "      <td>0</td>\n",
       "      <td>0</td>\n",
       "      <td>0</td>\n",
       "      <td>0</td>\n",
       "      <td>0</td>\n",
       "      <td>0</td>\n",
       "    </tr>\n",
       "    <tr>\n",
       "      <th>3</th>\n",
       "      <td>4</td>\n",
       "      <td>0</td>\n",
       "      <td>0</td>\n",
       "      <td>0</td>\n",
       "      <td>0</td>\n",
       "      <td>0</td>\n",
       "      <td>0</td>\n",
       "      <td>0</td>\n",
       "      <td>0</td>\n",
       "      <td>0</td>\n",
       "      <td>...</td>\n",
       "      <td>0</td>\n",
       "      <td>0</td>\n",
       "      <td>0</td>\n",
       "      <td>0</td>\n",
       "      <td>0</td>\n",
       "      <td>0</td>\n",
       "      <td>0</td>\n",
       "      <td>0</td>\n",
       "      <td>0</td>\n",
       "      <td>0</td>\n",
       "    </tr>\n",
       "    <tr>\n",
       "      <th>4</th>\n",
       "      <td>0</td>\n",
       "      <td>0</td>\n",
       "      <td>0</td>\n",
       "      <td>0</td>\n",
       "      <td>0</td>\n",
       "      <td>0</td>\n",
       "      <td>0</td>\n",
       "      <td>0</td>\n",
       "      <td>0</td>\n",
       "      <td>0</td>\n",
       "      <td>...</td>\n",
       "      <td>0</td>\n",
       "      <td>0</td>\n",
       "      <td>0</td>\n",
       "      <td>0</td>\n",
       "      <td>0</td>\n",
       "      <td>0</td>\n",
       "      <td>0</td>\n",
       "      <td>0</td>\n",
       "      <td>0</td>\n",
       "      <td>0</td>\n",
       "    </tr>\n",
       "  </tbody>\n",
       "</table>\n",
       "<p>5 rows × 785 columns</p>\n",
       "</div>"
      ],
      "text/plain": [
       "   label  pixel0  pixel1  pixel2  pixel3  pixel4  pixel5  pixel6  pixel7  \\\n",
       "0      1       0       0       0       0       0       0       0       0   \n",
       "1      0       0       0       0       0       0       0       0       0   \n",
       "2      1       0       0       0       0       0       0       0       0   \n",
       "3      4       0       0       0       0       0       0       0       0   \n",
       "4      0       0       0       0       0       0       0       0       0   \n",
       "\n",
       "   pixel8  ...  pixel774  pixel775  pixel776  pixel777  pixel778  pixel779  \\\n",
       "0       0  ...         0         0         0         0         0         0   \n",
       "1       0  ...         0         0         0         0         0         0   \n",
       "2       0  ...         0         0         0         0         0         0   \n",
       "3       0  ...         0         0         0         0         0         0   \n",
       "4       0  ...         0         0         0         0         0         0   \n",
       "\n",
       "   pixel780  pixel781  pixel782  pixel783  \n",
       "0         0         0         0         0  \n",
       "1         0         0         0         0  \n",
       "2         0         0         0         0  \n",
       "3         0         0         0         0  \n",
       "4         0         0         0         0  \n",
       "\n",
       "[5 rows x 785 columns]"
      ]
     },
     "execution_count": 6,
     "metadata": {},
     "output_type": "execute_result"
    }
   ],
   "source": [
    "data.head()"
   ]
  },
  {
   "cell_type": "code",
   "execution_count": 7,
   "id": "dc2f1ad5-8025-44bb-859a-cb9213da4a93",
   "metadata": {},
   "outputs": [],
   "source": [
    "data = np.array(data)\n",
    "m, n = data.shape\n",
    "np.random.shuffle(data)\n",
    "\n",
    "data_test = data[0:1000].T\n",
    "Y_test = data_test[0]\n",
    "X_test = data_test[1:n]\n",
    "X_test = X_test / 255.\n",
    "\n",
    "data_train = data[1000:m].T\n",
    "Y_train = data_train[0]\n",
    "X_train = data_train[1:n]\n",
    "X_train = X_train / 255."
   ]
  },
  {
   "cell_type": "code",
   "execution_count": 8,
   "id": "455d1a3e-495f-4265-a851-01b79177f41b",
   "metadata": {},
   "outputs": [
    {
     "data": {
      "text/plain": [
       "(784,)"
      ]
     },
     "execution_count": 8,
     "metadata": {},
     "output_type": "execute_result"
    }
   ],
   "source": [
    "X_train[:, 0].shape"
   ]
  },
  {
   "cell_type": "markdown",
   "id": "d9c81442",
   "metadata": {},
   "source": [
    "Plot an example image"
   ]
  },
  {
   "cell_type": "code",
   "execution_count": 9,
   "id": "d8dd9762",
   "metadata": {},
   "outputs": [
    {
     "name": "stdout",
     "output_type": "stream",
     "text": [
      "Label: 6\n"
     ]
    },
    {
     "data": {
      "image/png": "[encoded data removed]",
      "text/plain": [
       "<Figure size 640x480 with 1 Axes>"
      ]
     },
     "metadata": {},
     "output_type": "display_data"
    }
   ],
   "source": [
    "current_image = X_train[:, 5, None]\n",
    "label = Y_train[5]\n",
    "print(f\"Label: {label}\")\n",
    "\n",
    "current_image = current_image.reshape((28, 28)) * 255\n",
    "plt.gray()\n",
    "plt.imshow(current_image)\n",
    "plt.show()"
   ]
  },
  {
   "cell_type": "markdown",
   "id": "bf3b2481",
   "metadata": {},
   "source": [
    "Visualize a grid of images"
   ]
  },
  {
   "cell_type": "code",
   "execution_count": 22,
   "id": "5c90b4e7",
   "metadata": {},
   "outputs": [
    {
     "data": {
      "image/png": "[encoded data removed]",
      "text/plain": [
       "<Figure size 600x600 with 25 Axes>"
      ]
     },
     "metadata": {},
     "output_type": "display_data"
    }
   ],
   "source": [
    "plt.figure(figsize=(6,6))\n",
    "for i,image in enumerate(data[0:25]):\n",
    "    \n",
    "    plt.subplot(5,5,i+1)\n",
    "    plt.xticks([])\n",
    "    plt.yticks([])\n",
    "    image = image[1:].reshape((28, 28)) * 255\n",
    "    plt.imshow(image, cmap='Greys')\n"
   ]
  },
  {
   "cell_type": "markdown",
   "id": "b76ab537",
   "metadata": {},
   "source": [
    "### Some information\n",
    "Our NN will have a simple two-layer architecture:\n",
    "-  Input layer $A^{[0]}$ will have 784 units corresponding to the 784 pixels in each 28x28x1 input image;\n",
    "- A hidden layer $A^{[1]}$ will have 10 units with ReLU activation; \n",
    "- the output layer $a^{[2]}$ will have 10 units corresponding to the 10-digit classes with softmax activation.\n",
    "\n",
    "\n",
    "In order to have a NN with good accuracy performance in prediction we have to implement 3 main phases that will compose the training algorithm:\n",
    "- **Forward propagation**\n",
    "- **Backward propagation**\n",
    "- **Parameter updates**"
   ]
  },
  {
   "cell_type": "markdown",
   "id": "6e8eaf4e",
   "metadata": {},
   "source": [
    "### Parameters initialization"
   ]
  },
  {
   "cell_type": "code",
   "execution_count": 9,
   "id": "5859c12f",
   "metadata": {},
   "outputs": [],
   "source": [
    "def init_params():\n",
    "    W1 = np.random.normal(size=(10, 784)) * np.sqrt(1./(784))\n",
    "    b1 = np.random.normal(size=(10, 1)) * np.sqrt(1./10)\n",
    "    W2 = np.random.normal(size=(10, 10)) * np.sqrt(1./10)\n",
    "    b2 = np.random.normal(size=(10, 1)) * np.sqrt(1./(10))\n",
    "    return W1, b1, W2, b2"
   ]
  },
  {
   "cell_type": "markdown",
   "id": "154dd050",
   "metadata": {},
   "source": [
    "### Utilities Function"
   ]
  },
  {
   "cell_type": "code",
   "execution_count": 10,
   "id": "eeb7695e",
   "metadata": {},
   "outputs": [],
   "source": [
    "def ReLU(Z):\n",
    "    return np.maximum(Z, 0)\n",
    "\n",
    "\n",
    "def ReLU_derivative(Z):\n",
    "    return Z > 0\n",
    "\n",
    "\n",
    "def softmax(Z):\n",
    "    return np.exp(Z) / np.sum(np.exp(Z), axis=0)\n",
    "\n",
    "\n",
    "def one_hot(Y):\n",
    "    one_hot_Y = np.zeros((Y.size, Y.max() + 1))\n",
    "    one_hot_Y[np.arange(Y.size), Y] = 1\n",
    "    one_hot_Y = one_hot_Y.T\n",
    "    return one_hot_Y"
   ]
  },
  {
   "cell_type": "markdown",
   "id": "9563e329",
   "metadata": {},
   "source": [
    "### Training Phase\n",
    "\n",
    "**Forward propagation**\n",
    "\n",
    "$$Z^{[1]} = W^{[1]} X + b^{[1]}$$\n",
    "$$A^{[1]} = g_{\\text{ReLU}}(Z^{[1]}))$$\n",
    "$$Z^{[2]} = W^{[2]} A^{[1]} + b^{[2]}$$\n",
    "$$A^{[2]} = g_{\\text{softmax}}(Z^{[2]})$$\n",
    "\n",
    "**Backward propagation**\n",
    "\n",
    "$$dZ^{[2]} = A^{[2]} - Y$$\n",
    "$$dW^{[2]} = \\frac{1}{m} dZ^{[2]} A^{[1]T}$$\n",
    "$$dB^{[2]} = \\frac{1}{m} \\Sigma {dZ^{[2]}}$$\n",
    "$$dZ^{[1]} = W^{[2]T} dZ^{[2]} .* g^{[1]\\prime} (z^{[1]})$$\n",
    "$$dW^{[1]} = \\frac{1}{m} dZ^{[1]} A^{[0]T}$$\n",
    "$$dB^{[1]} = \\frac{1}{m} \\Sigma {dZ^{[1]}}$$\n",
    "\n",
    "**Parameter updates**\n",
    "\n",
    "$$W^{[2]} := W^{[2]} - \\alpha dW^{[2]}$$\n",
    "$$b^{[2]} := b^{[2]} - \\alpha db^{[2]}$$\n",
    "$$W^{[1]} := W^{[1]} - \\alpha dW^{[1]}$$\n",
    "$$b^{[1]} := b^{[1]} - \\alpha db^{[1]}$$"
   ]
  },
  {
   "cell_type": "code",
   "execution_count": 11,
   "id": "de32bc72-05a6-4726-be9f-0baadb0a30ae",
   "metadata": {},
   "outputs": [],
   "source": [
    "def forward_propagation(W1, b1, W2, b2, X):\n",
    "    Z1 = W1.dot(X) + b1\n",
    "    A1 = ReLU(Z1)\n",
    "    Z2 = W2.dot(A1) + b2\n",
    "    A2 = softmax(Z2)\n",
    "    return Z1, A1, Z2, A2\n",
    "\n",
    "\n",
    "def backward_propagation(Z1, A1, Z2, A2, W1, W2, X, Y):\n",
    "    one_hot_Y = one_hot(Y)\n",
    "    dZ2 = A2 - one_hot_Y\n",
    "    dW2 = 1 / m * dZ2.dot(A1.T)\n",
    "    db2 = 1 / m * np.sum(dZ2, axis=1).reshape(-1, 1)\n",
    "    dZ1 = W2.T.dot(dZ2) * ReLU_derivative(Z1)\n",
    "    dW1 = 1 / m * dZ1.dot(X.T)\n",
    "    db1 = 1 / m * np.sum(dZ1, axis=1).reshape(-1, 1)\n",
    "    return dW1, db1, dW2, db2\n",
    "\n",
    "\n",
    "def update_params(W1, b1, W2, b2, dW1, db1, dW2, db2, alpha):\n",
    "    W1 = W1 - alpha * dW1\n",
    "    b1 = b1 - alpha * db1\n",
    "    \n",
    "    W2 = W2 - alpha * dW2  \n",
    "    b2 = b2 - alpha * db2\n",
    "\n",
    "    return W1, b1, W2, b2\n",
    "\n",
    "\n",
    "def get_predictions(A2):\n",
    "    return np.argmax(A2, 0)\n",
    "\n",
    "\n",
    "def get_accuracy(predictions, Y):\n",
    "    # print(predictions, Y)\n",
    "    return np.sum(predictions == Y) / Y.size\n",
    "\n",
    "\n",
    "def gradient_descent(X, Y, alpha, iterations):\n",
    "    W1, b1, W2, b2 = init_params()\n",
    "    for i in range(iterations):\n",
    "        Z1, A1, Z2, A2 = forward_propagation(W1, b1, W2, b2, X)\n",
    "        dW1, db1, dW2, db2 = backward_propagation(Z1, A1, Z2, A2, W1, W2, X, Y)\n",
    "        W1, b1, W2, b2 = update_params(W1, b1, W2, b2, dW1, db1, dW2, db2, alpha)\n",
    "        if i % 10 == 0:\n",
    "            print(\"Iteration: \", i)\n",
    "            predictions = get_predictions(A2)\n",
    "            print(f'Accuracy: {get_accuracy(predictions, Y)}%')\n",
    "    \n",
    "    return W1, b1, W2, b2\n"
   ]
  },
  {
   "cell_type": "markdown",
   "id": "b867580f",
   "metadata": {},
   "source": [
    "**Shapes**\n",
    "\n",
    "- Forward propagation\n",
    "    - $A^{[0]} = X$: 784 x m\n",
    "    - $Z^{[1]} \\sim A^{[1]}$: 10 x m\n",
    "    - $W^{[1]}$: 10 x 784 (as $W^{[1]} A^{[0]} \\sim Z^{[1]}$)\n",
    "    - $B^{[1]}$: 10 x 1\n",
    "    - $Z^{[2]} \\sim A^{[2]}$: 10 x m\n",
    "    - $W^{[1]}$: 10 x 10 (as $W^{[2]} A^{[1]} \\sim Z^{[2]}$)\n",
    "    - $B^{[2]}$: 10 x 1\n",
    "\n",
    "- Backpropagation\n",
    "    - $dZ^{[2]}$: 10 x m ($~A^{[2]}$)\n",
    "    - $dW^{[2]}$: 10 x 10\n",
    "    - $dB^{[2]}$: 10 x 1\n",
    "    - $dZ^{[1]}$: 10 x m ($~A^{[1]}$)\n",
    "    - $dW^{[1]}$: 10 x 10\n",
    "    - $dB^{[1]}$: 10 x 1"
   ]
  },
  {
   "cell_type": "markdown",
   "id": "1678b199",
   "metadata": {},
   "source": [
    "## Build the NN and make prediction"
   ]
  },
  {
   "cell_type": "code",
   "execution_count": 12,
   "id": "e315e6d3",
   "metadata": {},
   "outputs": [
    {
     "name": "stdout",
     "output_type": "stream",
     "text": [
      "Iteration:  0\n",
      "Accuracy: 0.11860975609756097%\n"
     ]
    },
    {
     "name": "stdout",
     "output_type": "stream",
     "text": [
      "Iteration:  10\n",
      "Accuracy: 0.40768292682926827%\n",
      "Iteration:  20\n",
      "Accuracy: 0.621%\n",
      "Iteration:  30\n",
      "Accuracy: 0.7155609756097561%\n",
      "Iteration:  40\n",
      "Accuracy: 0.7632682926829268%\n",
      "Iteration:  50\n",
      "Accuracy: 0.7887560975609756%\n",
      "Iteration:  60\n",
      "Accuracy: 0.8074634146341464%\n",
      "Iteration:  70\n",
      "Accuracy: 0.821780487804878%\n",
      "Iteration:  80\n",
      "Accuracy: 0.8324390243902439%\n",
      "Iteration:  90\n",
      "Accuracy: 0.8411463414634146%\n",
      "Iteration:  100\n",
      "Accuracy: 0.8480731707317073%\n",
      "Iteration:  110\n",
      "Accuracy: 0.8540243902439024%\n",
      "Iteration:  120\n",
      "Accuracy: 0.8582926829268293%\n",
      "Iteration:  130\n",
      "Accuracy: 0.8620975609756097%\n",
      "Iteration:  140\n",
      "Accuracy: 0.8658536585365854%\n",
      "Iteration:  150\n",
      "Accuracy: 0.8688780487804878%\n",
      "Iteration:  160\n",
      "Accuracy: 0.8715609756097561%\n",
      "Iteration:  170\n",
      "Accuracy: 0.8737560975609756%\n",
      "Iteration:  180\n",
      "Accuracy: 0.8757560975609756%\n",
      "Iteration:  190\n",
      "Accuracy: 0.8777073170731707%\n",
      "Iteration:  200\n",
      "Accuracy: 0.8795121951219512%\n",
      "Iteration:  210\n",
      "Accuracy: 0.881%\n",
      "Iteration:  220\n",
      "Accuracy: 0.8827804878048781%\n",
      "Iteration:  230\n",
      "Accuracy: 0.8846829268292683%\n",
      "Iteration:  240\n",
      "Accuracy: 0.886219512195122%\n",
      "Iteration:  250\n",
      "Accuracy: 0.8873414634146342%\n",
      "Iteration:  260\n",
      "Accuracy: 0.8887804878048781%\n",
      "Iteration:  270\n",
      "Accuracy: 0.8897560975609756%\n",
      "Iteration:  280\n",
      "Accuracy: 0.8907317073170732%\n",
      "Iteration:  290\n",
      "Accuracy: 0.8911951219512195%\n",
      "Iteration:  300\n",
      "Accuracy: 0.8922439024390244%\n",
      "Iteration:  310\n",
      "Accuracy: 0.8931707317073171%\n",
      "Iteration:  320\n",
      "Accuracy: 0.8935853658536586%\n",
      "Iteration:  330\n",
      "Accuracy: 0.8939756097560976%\n",
      "Iteration:  340\n",
      "Accuracy: 0.8947560975609756%\n",
      "Iteration:  350\n",
      "Accuracy: 0.8954146341463415%\n",
      "Iteration:  360\n",
      "Accuracy: 0.8963170731707317%\n",
      "Iteration:  370\n",
      "Accuracy: 0.8970243902439025%\n",
      "Iteration:  380\n",
      "Accuracy: 0.8979512195121951%\n",
      "Iteration:  390\n",
      "Accuracy: 0.8984878048780488%\n",
      "Iteration:  400\n",
      "Accuracy: 0.8991463414634147%\n",
      "Iteration:  410\n",
      "Accuracy: 0.8999268292682927%\n",
      "Iteration:  420\n",
      "Accuracy: 0.9001951219512195%\n",
      "Iteration:  430\n",
      "Accuracy: 0.9007804878048781%\n",
      "Iteration:  440\n",
      "Accuracy: 0.9011951219512195%\n",
      "Iteration:  450\n",
      "Accuracy: 0.9017073170731708%\n",
      "Iteration:  460\n",
      "Accuracy: 0.902219512195122%\n",
      "Iteration:  470\n",
      "Accuracy: 0.902609756097561%\n",
      "Iteration:  480\n",
      "Accuracy: 0.9030975609756098%\n",
      "Iteration:  490\n",
      "Accuracy: 0.9034878048780488%\n"
     ]
    }
   ],
   "source": [
    "# The NN is the combination of all the parameters\n",
    "W1, b1, W2, b2 = gradient_descent(X_train, Y_train, 0.1, 500)\n",
    "\n",
    "NN = (W1, b1, W2, b2)"
   ]
  },
  {
   "cell_type": "markdown",
   "id": "275e7f69",
   "metadata": {},
   "source": [
    "### Make some predictions"
   ]
  },
  {
   "cell_type": "code",
   "execution_count": 13,
   "id": "c638b2bb",
   "metadata": {},
   "outputs": [],
   "source": [
    "def make_predictions(X, NN):\n",
    "    _, _, _, A2 = forward_propagation(NN[0], NN[1], NN[2], NN[3], X)\n",
    "    predictions = get_predictions(A2)\n",
    "    return predictions\n",
    "\n",
    "def test_prediction(index, NN):\n",
    "    current_image = X_train[:, index, None]\n",
    "    prediction = make_predictions(X_train[:, index, None], NN)\n",
    "    label = Y_train[index]\n",
    "    print(\"Prediction: \", prediction)\n",
    "    print(\"Label: \", label)\n",
    "    \n",
    "    current_image = current_image.reshape((28, 28)) * 255\n",
    "    plt.gray()\n",
    "    plt.imshow(current_image)\n",
    "    plt.show()"
   ]
  },
  {
   "cell_type": "code",
   "execution_count": 14,
   "id": "0abd0c8d",
   "metadata": {},
   "outputs": [
    {
     "name": "stdout",
     "output_type": "stream",
     "text": [
      "Prediction:  [9]\n",
      "Label:  9\n"
     ]
    },
    {
     "data": {
      "image/png": "[encoded data removed]",
      "text/plain": [
       "<Figure size 640x480 with 1 Axes>"
      ]
     },
     "metadata": {},
     "output_type": "display_data"
    },
    {
     "name": "stdout",
     "output_type": "stream",
     "text": [
      "Prediction:  [0]\n",
      "Label:  0\n"
     ]
    },
    {
     "data": {
      "image/png": "[encoded data removed]",
      "text/plain": [
       "<Figure size 640x480 with 1 Axes>"
      ]
     },
     "metadata": {},
     "output_type": "display_data"
    },
    {
     "name": "stdout",
     "output_type": "stream",
     "text": [
      "Prediction:  [5]\n",
      "Label:  3\n"
     ]
    },
    {
     "data": {
      "image/png": "[encoded data removed]",
      "text/plain": [
       "<Figure size 640x480 with 1 Axes>"
      ]
     },
     "metadata": {},
     "output_type": "display_data"
    },
    {
     "name": "stdout",
     "output_type": "stream",
     "text": [
      "Prediction:  [2]\n",
      "Label:  2\n"
     ]
    },
    {
     "data": {
      "image/png": "[encoded data removed]",
      "text/plain": [
       "<Figure size 640x480 with 1 Axes>"
      ]
     },
     "metadata": {},
     "output_type": "display_data"
    }
   ],
   "source": [
    "test_prediction(0, NN)\n",
    "test_prediction(1, NN)\n",
    "test_prediction(2, NN)\n",
    "test_prediction(3, NN)"
   ]
  },
  {
   "cell_type": "markdown",
   "id": "a0378d15",
   "metadata": {},
   "source": [
    "### Accuracy on Test set"
   ]
  },
  {
   "cell_type": "code",
   "execution_count": 15,
   "id": "80271ec7",
   "metadata": {},
   "outputs": [
    {
     "data": {
      "text/plain": [
       "0.905"
      ]
     },
     "execution_count": 15,
     "metadata": {},
     "output_type": "execute_result"
    }
   ],
   "source": [
    "dev_predictions = make_predictions(X_test, NN)\n",
    "get_accuracy(dev_predictions, Y_test)"
   ]
  }
 ],
 "metadata": {
  "kernelspec": {
   "display_name": "Python 3 (ipykernel)",
   "language": "python",
   "name": "python3"
  },
  "language_info": {
   "codemirror_mode": {
    "name": "ipython",
    "version": 3
   },
   "file_extension": ".py",
   "mimetype": "text/x-python",
   "name": "python",
   "nbconvert_exporter": "python",
   "pygments_lexer": "ipython3",
   "version": "3.10.12"
  }
 },
 "nbformat": 4,
 "nbformat_minor": 5
}
